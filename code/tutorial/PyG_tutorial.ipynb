{
 "cells": [
  {
   "cell_type": "code",
   "execution_count": 5,
   "id": "ab779ba7",
   "metadata": {},
   "outputs": [
    {
     "data": {
      "text/plain": [
       "'C:\\\\Users\\\\janet\\\\anaconda3\\\\envs\\\\GNN_SCHZ\\\\python.exe'"
      ]
     },
     "execution_count": 5,
     "metadata": {},
     "output_type": "execute_result"
    }
   ],
   "source": [
    "import sys\n",
    "sys.executable # 'C:\\\\Users\\\\janet\\\\anaconda3\\\\envs\\\\GNN_SCHZ\\\\python.exe'"
   ]
  },
  {
   "cell_type": "code",
   "execution_count": 7,
   "id": "3443e8ff-8c5d-442a-900c-95e34f78ec0d",
   "metadata": {},
   "outputs": [
    {
     "name": "stdout",
     "output_type": "stream",
     "text": [
      "2.1.0\n"
     ]
    }
   ],
   "source": [
    "import torch\n",
    "print(torch.__version__)"
   ]
  },
  {
   "cell_type": "markdown",
   "id": "6dbbefd8",
   "metadata": {
    "jp-MarkdownHeadingCollapsed": true
   },
   "source": [
    "## single graph Handling\n",
    "torch_geometric.data.Data class\n",
    "\n",
    "- data.x(num_nodes, num_node_features) : node feature matrix\n",
    "- data.edge_index(2, 2*num_edges) : adjacency matrix를 만들 수 있음\n",
    "\n",
    "data.edge_attr(num_edges, num_edge_features) : edge feature matrix\n",
    "\n",
    "data.y : ground truth, target matrix\n",
    "\n",
    "data.pos(num_nodes, num_dimensions) : 각 node의 위치"
   ]
  },
  {
   "cell_type": "code",
   "execution_count": 3,
   "id": "6273b3f5",
   "metadata": {},
   "outputs": [],
   "source": [
    "import torch"
   ]
  },
  {
   "cell_type": "code",
   "execution_count": 4,
   "id": "ebfa4542",
   "metadata": {},
   "outputs": [
    {
     "name": "stdout",
     "output_type": "stream",
     "text": [
      "============= Dataset =============\n",
      "Dataset : KarateClub()\n",
      "graphs # : 1\n",
      "classes # : 4\n",
      "============= Graph 0 =============\n",
      "Data(x=[34, 34], edge_index=[2, 156], y=[34], train_mask=[34])\n",
      "\n",
      "      x(node# , feature#) : feature matrix\n",
      "      adjacency matrix는 edge_index를 통해 얻을 수 있음\n",
      "nodes # : 34\n",
      "edges # : 156\n",
      "features # per node : 34\n",
      "features # per edge : 0\n",
      "Is undirected: True\n",
      "Contains isolated nodes: False\n",
      "node pair : tensor([[ 0,  1],\n",
      "        [ 0,  2],\n",
      "        [ 0,  3],\n",
      "        [ 0,  4],\n",
      "        [ 0,  5],\n",
      "        [ 0,  6],\n",
      "        [ 0,  7],\n",
      "        [ 0,  8],\n",
      "        [ 0, 10],\n",
      "        [ 0, 11],\n",
      "        [ 0, 12],\n",
      "        [ 0, 13],\n",
      "        [ 0, 17],\n",
      "        [ 0, 19],\n",
      "        [ 0, 21],\n",
      "        [ 0, 31],\n",
      "        [ 1,  0],\n",
      "        [ 1,  2],\n",
      "        [ 1,  3],\n",
      "        [ 1,  7],\n",
      "        [ 1, 13],\n",
      "        [ 1, 17],\n",
      "        [ 1, 19],\n",
      "        [ 1, 21],\n",
      "        [ 1, 30],\n",
      "        [ 2,  0],\n",
      "        [ 2,  1],\n",
      "        [ 2,  3],\n",
      "        [ 2,  7],\n",
      "        [ 2,  8],\n",
      "        [ 2,  9],\n",
      "        [ 2, 13],\n",
      "        [ 2, 27],\n",
      "        [ 2, 28],\n",
      "        [ 2, 32],\n",
      "        [ 3,  0],\n",
      "        [ 3,  1],\n",
      "        [ 3,  2],\n",
      "        [ 3,  7],\n",
      "        [ 3, 12],\n",
      "        [ 3, 13],\n",
      "        [ 4,  0],\n",
      "        [ 4,  6],\n",
      "        [ 4, 10],\n",
      "        [ 5,  0],\n",
      "        [ 5,  6],\n",
      "        [ 5, 10],\n",
      "        [ 5, 16],\n",
      "        [ 6,  0],\n",
      "        [ 6,  4],\n",
      "        [ 6,  5],\n",
      "        [ 6, 16],\n",
      "        [ 7,  0],\n",
      "        [ 7,  1],\n",
      "        [ 7,  2],\n",
      "        [ 7,  3],\n",
      "        [ 8,  0],\n",
      "        [ 8,  2],\n",
      "        [ 8, 30],\n",
      "        [ 8, 32],\n",
      "        [ 8, 33],\n",
      "        [ 9,  2],\n",
      "        [ 9, 33],\n",
      "        [10,  0],\n",
      "        [10,  4],\n",
      "        [10,  5],\n",
      "        [11,  0],\n",
      "        [12,  0],\n",
      "        [12,  3],\n",
      "        [13,  0],\n",
      "        [13,  1],\n",
      "        [13,  2],\n",
      "        [13,  3],\n",
      "        [13, 33],\n",
      "        [14, 32],\n",
      "        [14, 33],\n",
      "        [15, 32],\n",
      "        [15, 33],\n",
      "        [16,  5],\n",
      "        [16,  6],\n",
      "        [17,  0],\n",
      "        [17,  1],\n",
      "        [18, 32],\n",
      "        [18, 33],\n",
      "        [19,  0],\n",
      "        [19,  1],\n",
      "        [19, 33],\n",
      "        [20, 32],\n",
      "        [20, 33],\n",
      "        [21,  0],\n",
      "        [21,  1],\n",
      "        [22, 32],\n",
      "        [22, 33],\n",
      "        [23, 25],\n",
      "        [23, 27],\n",
      "        [23, 29],\n",
      "        [23, 32],\n",
      "        [23, 33],\n",
      "        [24, 25],\n",
      "        [24, 27],\n",
      "        [24, 31],\n",
      "        [25, 23],\n",
      "        [25, 24],\n",
      "        [25, 31],\n",
      "        [26, 29],\n",
      "        [26, 33],\n",
      "        [27,  2],\n",
      "        [27, 23],\n",
      "        [27, 24],\n",
      "        [27, 33],\n",
      "        [28,  2],\n",
      "        [28, 31],\n",
      "        [28, 33],\n",
      "        [29, 23],\n",
      "        [29, 26],\n",
      "        [29, 32],\n",
      "        [29, 33],\n",
      "        [30,  1],\n",
      "        [30,  8],\n",
      "        [30, 32],\n",
      "        [30, 33],\n",
      "        [31,  0],\n",
      "        [31, 24],\n",
      "        [31, 25],\n",
      "        [31, 28],\n",
      "        [31, 32],\n",
      "        [31, 33],\n",
      "        [32,  2],\n",
      "        [32,  8],\n",
      "        [32, 14],\n",
      "        [32, 15],\n",
      "        [32, 18],\n",
      "        [32, 20],\n",
      "        [32, 22],\n",
      "        [32, 23],\n",
      "        [32, 29],\n",
      "        [32, 30],\n",
      "        [32, 31],\n",
      "        [32, 33],\n",
      "        [33,  8],\n",
      "        [33,  9],\n",
      "        [33, 13],\n",
      "        [33, 14],\n",
      "        [33, 15],\n",
      "        [33, 18],\n",
      "        [33, 19],\n",
      "        [33, 20],\n",
      "        [33, 22],\n",
      "        [33, 23],\n",
      "        [33, 26],\n",
      "        [33, 27],\n",
      "        [33, 28],\n",
      "        [33, 29],\n",
      "        [33, 30],\n",
      "        [33, 31],\n",
      "        [33, 32]])\n"
     ]
    }
   ],
   "source": [
    "from torch_geometric.datasets import KarateClub\n",
    "\n",
    "dataset= KarateClub()\n",
    "\n",
    "print('============= Dataset =============')\n",
    "print(f'Dataset : {dataset}')\n",
    "print(f'graphs # : {len(dataset)}')\n",
    "print(f'classes # : {dataset.num_classes}')\n",
    "print('============= Graph 0 =============')\n",
    "data = dataset[0]\n",
    "print(data)\n",
    "print('''\n",
    "      x(node# , feature#) : feature matrix\n",
    "      adjacency matrix는 edge_index를 통해 얻을 수 있음''')\n",
    "print(f'nodes # : {data.num_nodes}')\n",
    "print(f'edges # : {data.num_edges}')\n",
    "print(f'features # per node : {dataset.num_node_features}')\n",
    "print(f'features # per edge : {data.num_edge_features}')\n",
    "print(f'Is undirected: {data.is_undirected()}')\n",
    "print(f'Contains isolated nodes: {data.has_isolated_nodes()}')\n",
    "print(f'node pair : {data.edge_index.t()}')"
   ]
  },
  {
   "cell_type": "markdown",
   "id": "e47502d2-ec36-4b93-82a7-8161fe495fb7",
   "metadata": {},
   "source": [
    "## Graph Classification\n",
    "\n",
    "graph의 structural properties를 활용해 분류"
   ]
  },
  {
   "cell_type": "markdown",
   "id": "b4115949-d524-4012-98bf-af99383de0aa",
   "metadata": {
    "jp-MarkdownHeadingCollapsed": true
   },
   "source": [
    "### 1. Dataset Preprocessing\n",
    "\n",
    "1. dataset 확인\n",
    "2. train_test split\n",
    "3. batch(grouping)"
   ]
  },
  {
   "cell_type": "code",
   "execution_count": null,
   "id": "11acdbe0-bc15-4939-bff1-8b9121ec2bbf",
   "metadata": {},
   "outputs": [],
   "source": [
    "import torch\n",
    "from torch_geometric.datasets import TUDataset\n",
    "\n",
    "dataset = TUDataset(root='data/TUDataset', name='MUTAG')"
   ]
  },
  {
   "cell_type": "markdown",
   "id": "23a93a72-56b4-42fb-b594-5e3f7352d8db",
   "metadata": {},
   "source": [
    "1. dataset 확인"
   ]
  },
  {
   "cell_type": "code",
   "execution_count": 10,
   "id": "39545500",
   "metadata": {},
   "outputs": [
    {
     "name": "stdout",
     "output_type": "stream",
     "text": [
      "Dataset: MUTAG(188):\n",
      "====================\n",
      "Number of graphs: 188\n",
      "Number of classes: 2\n",
      "Number of features: 7\n",
      "\n",
      "Data(edge_index=[2, 38], x=[17, 7], edge_attr=[38, 4], y=[1])\n",
      "=============================================================\n",
      "Number of nodes: 17\n",
      "Number of edges: 38\n",
      "Average node degree: 2.24\n",
      "Has isolated nodes: False\n",
      "Has self-loops: False\n",
      "Is undirected: True\n"
     ]
    }
   ],
   "source": [
    "# dataset 확인\n",
    "print(f'Dataset: {dataset}:')\n",
    "print('====================')\n",
    "print(f'Number of graphs: {len(dataset)}')\n",
    "print(f'Number of classes: {dataset.num_classes}')\n",
    "print(f'Number of features: {dataset.num_features}')\n",
    "\n",
    "print()\n",
    "data = dataset[0]  # Get the first graph object.\n",
    "print(data)\n",
    "print('=============================================================')\n",
    "print(f'Number of nodes: {data.num_nodes}')\n",
    "print(f'Number of edges: {data.num_edges}')\n",
    "print(f'Average node degree: {data.num_edges / data.num_nodes:.2f}')\n",
    "print(f'Has isolated nodes: {data.has_isolated_nodes()}')\n",
    "print(f'Has self-loops: {data.has_self_loops()}')\n",
    "print(f'Is undirected: {data.is_undirected()}')"
   ]
  },
  {
   "cell_type": "markdown",
   "id": "0c8554b0-46d9-4a7e-be6b-f026b53343eb",
   "metadata": {},
   "source": [
    "2. train_test split"
   ]
  },
  {
   "cell_type": "code",
   "execution_count": 14,
   "id": "3fd3cfb1",
   "metadata": {},
   "outputs": [
    {
     "name": "stdout",
     "output_type": "stream",
     "text": [
      "test ratio: 0.17\n",
      "Number of training graphs: 150\n",
      "Number of test graphs: 38\n"
     ]
    }
   ],
   "source": [
    "torch.manual_seed(0)\n",
    "dataset = dataset.shuffle()\n",
    "\n",
    "train_dataset = dataset[:150]\n",
    "test_dataset = dataset[150:]\n",
    "\n",
    "print(f'test ratio: {30/180:.2f}')\n",
    "print(f'Number of training graphs: {len(train_dataset)}')\n",
    "print(f'Number of test graphs: {len(test_dataset)}')"
   ]
  },
  {
   "cell_type": "markdown",
   "id": "d08b0e7f-adf8-48ff-836b-d92aa7e49833",
   "metadata": {},
   "source": [
    "3. batch(grouping)\n",
    "\n",
    "하나의 batch에 일정한 개수(batch_size)의 그래프 데이터들 합쳐서 저장\n",
    "\n",
    "하나의 그래프 데이터에 속하는 것 : feature matrix, target matrix, adjacency matrix\n",
    "\n",
    "batch object에서의 batch attribute : 하나의 batch에 있는 node들이 각각 무슨 graph에 속하는지 저장한 벡터"
   ]
  },
  {
   "cell_type": "code",
   "execution_count": 15,
   "id": "7bfd2bc3-a34d-49e1-9fcf-5aa50af6f1c5",
   "metadata": {},
   "outputs": [
    {
     "name": "stdout",
     "output_type": "stream",
     "text": [
      "Step 1:\n",
      "=======\n",
      "Number of graphs in the current batch: 64\n",
      "DataBatch(edge_index=[2, 2628], x=[1190, 7], edge_attr=[2628, 4], y=[64], batch=[1190], ptr=[65])\n",
      "\n",
      "Step 2:\n",
      "=======\n",
      "Number of graphs in the current batch: 64\n",
      "DataBatch(edge_index=[2, 2628], x=[1181, 7], edge_attr=[2628, 4], y=[64], batch=[1181], ptr=[65])\n",
      "\n",
      "Step 3:\n",
      "=======\n",
      "Number of graphs in the current batch: 22\n",
      "DataBatch(edge_index=[2, 800], x=[364, 7], edge_attr=[800, 4], y=[22], batch=[364], ptr=[23])\n",
      "\n"
     ]
    }
   ],
   "source": [
    "from torch_geometric.loader import DataLoader\n",
    "\n",
    "train_loader = DataLoader(train_dataset, batch_size=64, shuffle=True)\n",
    "test_loader = DataLoader(test_dataset, batch_size=64, shuffle=False)\n",
    "\n",
    "for step, data in enumerate(train_loader):\n",
    "    print(f'Step {step + 1}:')\n",
    "    print('=======')\n",
    "    print(f'Number of graphs in the current batch: {data.num_graphs}')\n",
    "    print(data)\n",
    "    print()"
   ]
  },
  {
   "cell_type": "markdown",
   "id": "1042d8fc-016e-4f15-af54-8c27401555b5",
   "metadata": {},
   "source": [
    "### 2. Training GNN\n",
    "1. node embedding\n",
    "2. graph embedding(readout layer)\n",
    "3. train classifier on the graph embedding\n",
    "\n",
    "$$ E = mc^2 $$"
   ]
  },
  {
   "cell_type": "markdown",
   "id": "65331e83-7e9a-4fa7-a3bd-e95d9ccf7735",
   "metadata": {},
   "source": [
    "1. node embedding\n",
    "\n",
    "message passing을 통해 node를 저차원으로 embedding "
   ]
  },
  {
   "cell_type": "code",
   "execution_count": null,
   "id": "1e830a89-58bb-45d7-8aa3-50c339cf13ae",
   "metadata": {},
   "outputs": [],
   "source": []
  },
  {
   "cell_type": "markdown",
   "id": "6656f9c5-6851-4a04-ae8a-2504a83c738e",
   "metadata": {},
   "source": [
    "2. graph embedding (readout layer)\n",
    "\n",
    "하나의 graph에 속하는 node들의 embedding 값을 합쳐서 graph embedding\n",
    "\n",
    "합치는 방법은 다양하나, 가장 많이 쓰이는 건 node embedding 평균\n",
    "\n",
    "$$E = mc^2$$\n",
    "\n",
    "$$ \n",
    "\\mathbf{x}_{\\mathcal{G}} = \\frac{1}{|\\mathcal{V}|} \\sum_{v \\in \\mathcal{V}} \\mathcal{x}^{(L)}_ $$$$"
   ]
  },
  {
   "cell_type": "markdown",
   "id": "3cb831a4-56a9-4344-96e3-30f0eea48919",
   "metadata": {},
   "source": [
    "$$ E = mc^2 $$"
   ]
  },
  {
   "cell_type": "markdown",
   "id": "070b74d4-3469-453e-a11d-244792e13ff7",
   "metadata": {},
   "source": [
    "3. classifier training"
   ]
  },
  {
   "cell_type": "code",
   "execution_count": null,
   "id": "770895f5-8c90-410b-b177-70418f248e19",
   "metadata": {},
   "outputs": [],
   "source": []
  }
 ],
 "metadata": {
  "kernelspec": {
   "display_name": "GNN",
   "language": "python",
   "name": "gnn_schz"
  },
  "language_info": {
   "codemirror_mode": {
    "name": "ipython",
    "version": 3
   },
   "file_extension": ".py",
   "mimetype": "text/x-python",
   "name": "python",
   "nbconvert_exporter": "python",
   "pygments_lexer": "ipython3",
   "version": "3.10.13"
  }
 },
 "nbformat": 4,
 "nbformat_minor": 5
}
